{
 "cells": [
  {
   "cell_type": "markdown",
   "id": "cbd25a32-b0f4-4aae-9dfb-e3f2d337fab3",
   "metadata": {},
   "source": [
    "# 📌 Objectif  : Régression (Supervisé) :\n",
    "Employabilité d’un candidat : Prédire le délai d’employabilité (en jours) après le diplôme\n",
    "\n",
    "\n"
   ]
  },
  {
   "cell_type": "markdown",
   "id": "f6266522-f8d9-4ff7-9df8-57d2425bc545",
   "metadata": {},
   "source": [
    "## Connexion pour ssms"
   ]
  },
  {
   "cell_type": "code",
   "execution_count": 1,
   "id": "93c8c7c7-b0f7-4dba-838f-902323aae141",
   "metadata": {},
   "outputs": [
    {
     "name": "stdout",
     "output_type": "stream",
     "text": [
      "Connexion réussie !\n",
      "   Etudiant_Pk                                            diplome dateDiplome  \\\n",
      "0          280  Ecole Supérieure Privée d'Ingénierie et de Tec...  2013-07-13   \n",
      "1          280  Ecole Supérieure Privée d'Ingénierie et de Tec...  2013-07-13   \n",
      "2          280  Ecole Supérieure Privée d'Ingénierie et de Tec...  2013-07-13   \n",
      "3          280  Ecole Supérieure Privée d'Ingénierie et de Tec...  2013-07-13   \n",
      "4          387  Université libre de Tunis, Software engineerin...  2013-11-06   \n",
      "\n",
      "  date_firstjob  Fk_Entreprise  Fk_Offre  FK_date1  FK_date2  \\\n",
      "0    2013-09-29              1        72  20130713  20130929   \n",
      "1    2013-09-29              1       167  20130713  20130929   \n",
      "2    2013-09-29             16        59  20130713  20130929   \n",
      "3    2013-09-29             22       223  20130713  20130929   \n",
      "4    2015-09-09              1       387  20131106  20150909   \n",
      "\n",
      "    entreprise_name                             offre_name  \n",
      "0  Sofrecom Tunisie                   Ingénieur Full Stack  \n",
      "1  Sofrecom Tunisie                 Ingénieur informatique  \n",
      "2          ODDO BHF                            SOC Analyst  \n",
      "3             Value                      Flutter Developer  \n",
      "4  Sofrecom Tunisie  Test Automation Tech lead and Trainer  \n"
     ]
    },
    {
     "name": "stderr",
     "output_type": "stream",
     "text": [
      "C:\\Users\\souha\\AppData\\Local\\Temp\\ipykernel_16848\\4154534791.py:48: UserWarning: pandas only supports SQLAlchemy connectable (engine/connection) or database string URI or sqlite3 DBAPI2 connection. Other DBAPI2 objects are not tested. Please consider using SQLAlchemy.\n",
      "  df = pd.read_sql(query, conn)\n"
     ]
    }
   ],
   "source": [
    "import pyodbc\n",
    "import pandas as pd\n",
    "\n",
    "# Paramètres de connexion\n",
    "server = 'LAPTOP-VAILS20L' \n",
    "database = 'DW_PI' \n",
    "username = 'sa'  \n",
    "password = 'sa123' \n",
    "driver = '{SQL Server}' \n",
    "\n",
    "# Connexion à SQL Server\n",
    "try:\n",
    "    conn = pyodbc.connect(\n",
    "        f'DRIVER={driver};SERVER={server};DATABASE={database};UID={username};PWD={password}'\n",
    "    )\n",
    "    print(\"Connexion réussie !\")\n",
    "except Exception as e:\n",
    "    print(\"Erreur de connexion :\", e)\n",
    "# Requête SQL pour joindre les tables Dim_Etudiant, Dim_Entreprise, Dim_Offre et Fact_employ1\n",
    "query = \"\"\"\n",
    "SELECT \n",
    "    e.Etudiant_Pk, \n",
    "    e.diplome, \n",
    "    e.dateDiplome, \n",
    "    e.date_firstjob, \n",
    "    f.Fk_Entreprise, \n",
    "    f.Fk_Offre, \n",
    "    f.FK_date1, \n",
    "    f.FK_date2,\n",
    "    en.name AS entreprise_name,\n",
    "    o.offre AS offre_name\n",
    "FROM \n",
    "    [DW_PI].[dbo].[Dim_Etudiant] e\n",
    "JOIN \n",
    "    [DW_PI].[dbo].[Fact_employ1] f\n",
    "ON \n",
    "    e.Etudiant_Pk = f.Etudiant_Fk\n",
    "JOIN \n",
    "    [DW_PI].[dbo].[Dim_Entreprise] en\n",
    "ON \n",
    "    f.Fk_Entreprise = en.Pk_Entreprise\n",
    "JOIN \n",
    "    [DW_PI].[dbo].[Dim_Offre] o\n",
    "ON \n",
    "    f.Fk_Offre = o.Pk_Offre\n",
    "\"\"\"\n",
    "# Charger les données dans un DataFrame\n",
    "df = pd.read_sql(query, conn)\n",
    "\n",
    "# Fermer la connexion\n",
    "conn.close()\n",
    "\n",
    "# Afficher les premières lignes des données pour vérifier\n",
    "print(df.head())\n"
   ]
  },
  {
   "cell_type": "code",
   "execution_count": 2,
   "id": "88334002-909d-4b70-a39b-f68f4a55a553",
   "metadata": {},
   "outputs": [
    {
     "name": "stdout",
     "output_type": "stream",
     "text": [
      "Index(['Etudiant_Pk', 'diplome', 'dateDiplome', 'date_firstjob',\n",
      "       'Fk_Entreprise', 'Fk_Offre', 'FK_date1', 'FK_date2', 'entreprise_name',\n",
      "       'offre_name'],\n",
      "      dtype='object')\n"
     ]
    }
   ],
   "source": [
    "print(df.columns)\n"
   ]
  },
  {
   "cell_type": "code",
   "execution_count": 3,
   "id": "2a0e2a08-1a6a-4a4b-9e1a-5fb53f609573",
   "metadata": {},
   "outputs": [
    {
     "name": "stderr",
     "output_type": "stream",
     "text": [
      "C:\\Users\\souha\\AppData\\Local\\Temp\\ipykernel_16848\\1804541414.py:19: SettingWithCopyWarning: \n",
      "A value is trying to be set on a copy of a slice from a DataFrame.\n",
      "Try using .loc[row_indexer,col_indexer] = value instead\n",
      "\n",
      "See the caveats in the documentation: https://pandas.pydata.org/pandas-docs/stable/user_guide/indexing.html#returning-a-view-versus-a-copy\n",
      "  features['annee_diplome'] = features['dateDiplome'].dt.year\n",
      "C:\\Users\\souha\\AppData\\Local\\Temp\\ipykernel_16848\\1804541414.py:20: SettingWithCopyWarning: \n",
      "A value is trying to be set on a copy of a slice from a DataFrame.\n",
      "Try using .loc[row_indexer,col_indexer] = value instead\n",
      "\n",
      "See the caveats in the documentation: https://pandas.pydata.org/pandas-docs/stable/user_guide/indexing.html#returning-a-view-versus-a-copy\n",
      "  features['mois_diplome'] = features['dateDiplome'].dt.month\n"
     ]
    },
    {
     "data": {
      "text/html": [
       "<style>#sk-container-id-1 {color: black;background-color: white;}#sk-container-id-1 pre{padding: 0;}#sk-container-id-1 div.sk-toggleable {background-color: white;}#sk-container-id-1 label.sk-toggleable__label {cursor: pointer;display: block;width: 100%;margin-bottom: 0;padding: 0.3em;box-sizing: border-box;text-align: center;}#sk-container-id-1 label.sk-toggleable__label-arrow:before {content: \"▸\";float: left;margin-right: 0.25em;color: #696969;}#sk-container-id-1 label.sk-toggleable__label-arrow:hover:before {color: black;}#sk-container-id-1 div.sk-estimator:hover label.sk-toggleable__label-arrow:before {color: black;}#sk-container-id-1 div.sk-toggleable__content {max-height: 0;max-width: 0;overflow: hidden;text-align: left;background-color: #f0f8ff;}#sk-container-id-1 div.sk-toggleable__content pre {margin: 0.2em;color: black;border-radius: 0.25em;background-color: #f0f8ff;}#sk-container-id-1 input.sk-toggleable__control:checked~div.sk-toggleable__content {max-height: 200px;max-width: 100%;overflow: auto;}#sk-container-id-1 input.sk-toggleable__control:checked~label.sk-toggleable__label-arrow:before {content: \"▾\";}#sk-container-id-1 div.sk-estimator input.sk-toggleable__control:checked~label.sk-toggleable__label {background-color: #d4ebff;}#sk-container-id-1 div.sk-label input.sk-toggleable__control:checked~label.sk-toggleable__label {background-color: #d4ebff;}#sk-container-id-1 input.sk-hidden--visually {border: 0;clip: rect(1px 1px 1px 1px);clip: rect(1px, 1px, 1px, 1px);height: 1px;margin: -1px;overflow: hidden;padding: 0;position: absolute;width: 1px;}#sk-container-id-1 div.sk-estimator {font-family: monospace;background-color: #f0f8ff;border: 1px dotted black;border-radius: 0.25em;box-sizing: border-box;margin-bottom: 0.5em;}#sk-container-id-1 div.sk-estimator:hover {background-color: #d4ebff;}#sk-container-id-1 div.sk-parallel-item::after {content: \"\";width: 100%;border-bottom: 1px solid gray;flex-grow: 1;}#sk-container-id-1 div.sk-label:hover label.sk-toggleable__label {background-color: #d4ebff;}#sk-container-id-1 div.sk-serial::before {content: \"\";position: absolute;border-left: 1px solid gray;box-sizing: border-box;top: 0;bottom: 0;left: 50%;z-index: 0;}#sk-container-id-1 div.sk-serial {display: flex;flex-direction: column;align-items: center;background-color: white;padding-right: 0.2em;padding-left: 0.2em;position: relative;}#sk-container-id-1 div.sk-item {position: relative;z-index: 1;}#sk-container-id-1 div.sk-parallel {display: flex;align-items: stretch;justify-content: center;background-color: white;position: relative;}#sk-container-id-1 div.sk-item::before, #sk-container-id-1 div.sk-parallel-item::before {content: \"\";position: absolute;border-left: 1px solid gray;box-sizing: border-box;top: 0;bottom: 0;left: 50%;z-index: -1;}#sk-container-id-1 div.sk-parallel-item {display: flex;flex-direction: column;z-index: 1;position: relative;background-color: white;}#sk-container-id-1 div.sk-parallel-item:first-child::after {align-self: flex-end;width: 50%;}#sk-container-id-1 div.sk-parallel-item:last-child::after {align-self: flex-start;width: 50%;}#sk-container-id-1 div.sk-parallel-item:only-child::after {width: 0;}#sk-container-id-1 div.sk-dashed-wrapped {border: 1px dashed gray;margin: 0 0.4em 0.5em 0.4em;box-sizing: border-box;padding-bottom: 0.4em;background-color: white;}#sk-container-id-1 div.sk-label label {font-family: monospace;font-weight: bold;display: inline-block;line-height: 1.2em;}#sk-container-id-1 div.sk-label-container {text-align: center;}#sk-container-id-1 div.sk-container {/* jupyter's `normalize.less` sets `[hidden] { display: none; }` but bootstrap.min.css set `[hidden] { display: none !important; }` so we also need the `!important` here to be able to override the default hidden behavior on the sphinx rendered scikit-learn.org. See: https://github.com/scikit-learn/scikit-learn/issues/21755 */display: inline-block !important;position: relative;}#sk-container-id-1 div.sk-text-repr-fallback {display: none;}</style><div id=\"sk-container-id-1\" class=\"sk-top-container\"><div class=\"sk-text-repr-fallback\"><pre>RandomForestRegressor(random_state=42)</pre><b>In a Jupyter environment, please rerun this cell to show the HTML representation or trust the notebook. <br />On GitHub, the HTML representation is unable to render, please try loading this page with nbviewer.org.</b></div><div class=\"sk-container\" hidden><div class=\"sk-item\"><div class=\"sk-estimator sk-toggleable\"><input class=\"sk-toggleable__control sk-hidden--visually\" id=\"sk-estimator-id-1\" type=\"checkbox\" checked><label for=\"sk-estimator-id-1\" class=\"sk-toggleable__label sk-toggleable__label-arrow\">RandomForestRegressor</label><div class=\"sk-toggleable__content\"><pre>RandomForestRegressor(random_state=42)</pre></div></div></div></div></div>"
      ],
      "text/plain": [
       "RandomForestRegressor(random_state=42)"
      ]
     },
     "execution_count": 3,
     "metadata": {},
     "output_type": "execute_result"
    }
   ],
   "source": [
    "import pandas as pd\n",
    "from sklearn.model_selection import train_test_split\n",
    "from sklearn.preprocessing import OneHotEncoder\n",
    "from sklearn.linear_model import LinearRegression\n",
    "from sklearn.ensemble import RandomForestRegressor\n",
    "from sklearn.metrics import mean_squared_error, r2_score\n",
    "import numpy as np\n",
    "\n",
    "# Création de la cible : nombre de jours entre diplôme et premier emploi\n",
    "df['dateDiplome'] = pd.to_datetime(df['dateDiplome'])\n",
    "df['date_firstjob'] = pd.to_datetime(df['date_firstjob'])\n",
    "df['jours_attente'] = (df['date_firstjob'] - df['dateDiplome']).dt.days\n",
    "\n",
    "# Suppression des lignes avec valeurs manquantes dans la cible\n",
    "df = df.dropna(subset=['jours_attente'])\n",
    "\n",
    "# Sélection des features\n",
    "features = df[['entreprise_name', 'offre_name', 'dateDiplome']]\n",
    "features['annee_diplome'] = features['dateDiplome'].dt.year\n",
    "features['mois_diplome'] = features['dateDiplome'].dt.month\n",
    "X = features[['entreprise_name', 'offre_name', 'annee_diplome', 'mois_diplome']]\n",
    "y = df['jours_attente']\n",
    "\n",
    "# Encodage des variables catégorielles\n",
    "X = pd.get_dummies(X, columns=['entreprise_name', 'offre_name'], drop_first=True)\n",
    "\n",
    "# Split Train/Test\n",
    "X_train, X_test, y_train, y_test = train_test_split(X, y, test_size=0.2, random_state=42)\n",
    "\n",
    "# Modèles\n",
    "lr = LinearRegression()\n",
    "rf = RandomForestRegressor(random_state=42)\n",
    "\n",
    "lr.fit(X_train, y_train)\n",
    "rf.fit(X_train, y_train)\n"
   ]
  },
  {
   "cell_type": "code",
   "execution_count": 4,
   "id": "98267a52-d738-44f7-a917-4049077568ea",
   "metadata": {},
   "outputs": [
    {
     "name": "stderr",
     "output_type": "stream",
     "text": [
      "C:\\Users\\souha\\AppData\\Local\\Temp\\ipykernel_16848\\661835527.py:19: SettingWithCopyWarning: \n",
      "A value is trying to be set on a copy of a slice from a DataFrame.\n",
      "Try using .loc[row_indexer,col_indexer] = value instead\n",
      "\n",
      "See the caveats in the documentation: https://pandas.pydata.org/pandas-docs/stable/user_guide/indexing.html#returning-a-view-versus-a-copy\n",
      "  features['annee_diplome'] = features['dateDiplome'].dt.year\n",
      "C:\\Users\\souha\\AppData\\Local\\Temp\\ipykernel_16848\\661835527.py:20: SettingWithCopyWarning: \n",
      "A value is trying to be set on a copy of a slice from a DataFrame.\n",
      "Try using .loc[row_indexer,col_indexer] = value instead\n",
      "\n",
      "See the caveats in the documentation: https://pandas.pydata.org/pandas-docs/stable/user_guide/indexing.html#returning-a-view-versus-a-copy\n",
      "  features['mois_diplome'] = features['dateDiplome'].dt.month\n"
     ]
    },
    {
     "name": "stdout",
     "output_type": "stream",
     "text": [
      "MSE : 78648.72\n",
      "RMSE : 280.44\n",
      "R² : 0.36\n"
     ]
    }
   ],
   "source": [
    "from sklearn.ensemble import RandomForestRegressor\n",
    "from sklearn.metrics import mean_squared_error, r2_score\n",
    "import numpy as np\n",
    "import pandas as pd\n",
    "from sklearn.model_selection import train_test_split\n",
    "\n",
    "# Imaginons que df soit ton DataFrame déjà préparé\n",
    "\n",
    "# Création de la cible : nombre de jours entre diplôme et premier emploi\n",
    "df['dateDiplome'] = pd.to_datetime(df['dateDiplome'])\n",
    "df['date_firstjob'] = pd.to_datetime(df['date_firstjob'])\n",
    "df['jours_attente'] = (df['date_firstjob'] - df['dateDiplome']).dt.days\n",
    "\n",
    "# Suppression des lignes avec valeurs manquantes dans la cible\n",
    "df = df.dropna(subset=['jours_attente'])\n",
    "\n",
    "# Sélection des features\n",
    "features = df[['entreprise_name', 'offre_name', 'dateDiplome']]\n",
    "features['annee_diplome'] = features['dateDiplome'].dt.year\n",
    "features['mois_diplome'] = features['dateDiplome'].dt.month\n",
    "X = features[['entreprise_name', 'offre_name', 'annee_diplome', 'mois_diplome']]\n",
    "y = df['jours_attente']\n",
    "\n",
    "# Encodage des variables catégorielles\n",
    "X = pd.get_dummies(X, columns=['entreprise_name', 'offre_name'], drop_first=True)\n",
    "\n",
    "# Split Train/Test\n",
    "X_train, X_test, y_train, y_test = train_test_split(X, y, test_size=0.2, random_state=42)\n",
    "\n",
    "# Initialisation du modèle RandomForestRegressor\n",
    "rf = RandomForestRegressor(random_state=42)\n",
    "\n",
    "# Entraînement du modèle\n",
    "rf.fit(X_train, y_train)\n",
    "\n",
    "# Prédictions\n",
    "y_pred = rf.predict(X_test)\n",
    "\n",
    "# Évaluation du modèle\n",
    "mse = mean_squared_error(y_test, y_pred)\n",
    "rmse = np.sqrt(mse)\n",
    "r2 = r2_score(y_test, y_pred)\n",
    "\n",
    "print(f\"MSE : {mse:.2f}\")\n",
    "print(f\"RMSE : {rmse:.2f}\")\n",
    "print(f\"R² : {r2:.2f}\")\n"
   ]
  },
  {
   "cell_type": "code",
   "execution_count": 6,
   "id": "cfd474c2-794a-4175-8d51-9c8a0a7c0aef",
   "metadata": {},
   "outputs": [
    {
     "name": "stdout",
     "output_type": "stream",
     "text": [
      "Le nombre estimé de jours entre le diplôme et l'emploi est : 882.30 jours\n"
     ]
    }
   ],
   "source": [
    "# Créer un nouvel échantillon de données pour la prédiction (exemple)\n",
    "new_data = pd.DataFrame({\n",
    "    'entreprise_name': ['Entreprise A'],  # Nom de l'entreprise\n",
    "    'offre_name': ['Offre B'],  # Nom de l'offre\n",
    "    'dateDiplome': [pd.to_datetime('2024-06-15')]  # Date du diplôme\n",
    "})\n",
    "\n",
    "# Ajouter les nouvelles features\n",
    "new_data['annee_diplome'] = new_data['dateDiplome'].dt.year\n",
    "new_data['mois_diplome'] = new_data['dateDiplome'].dt.month\n",
    "\n",
    "# Encoder les variables catégorielles (comme pour les données d'entraînement)\n",
    "new_data_encoded = pd.get_dummies(new_data[['entreprise_name', 'offre_name', 'annee_diplome', 'mois_diplome']], drop_first=True)\n",
    "\n",
    "# Assure-toi que les colonnes d'X_train sont les mêmes que celles de new_data_encoded\n",
    "# On peut faire ça en réindexant (si nécessaire)\n",
    "new_data_encoded = new_data_encoded.reindex(columns=X.columns, fill_value=0)\n",
    "\n",
    "# Faire la prédiction avec le modèle Random Forest\n",
    "predicted_jours = rf.predict(new_data_encoded)\n",
    "\n",
    "# Afficher la prédiction (le nombre de jours entre le diplôme et le premier emploi)\n",
    "print(f\"Le nombre estimé de jours entre le diplôme et l'emploi est : {predicted_jours[0]:.2f} jours\")\n"
   ]
  },
  {
   "cell_type": "code",
   "execution_count": null,
   "id": "4079a66a-195e-4a1d-9d47-f9252fbfd482",
   "metadata": {},
   "outputs": [],
   "source": []
  }
 ],
 "metadata": {
  "kernelspec": {
   "display_name": "Python 3 (ipykernel)",
   "language": "python",
   "name": "python3"
  },
  "language_info": {
   "codemirror_mode": {
    "name": "ipython",
    "version": 3
   },
   "file_extension": ".py",
   "mimetype": "text/x-python",
   "name": "python",
   "nbconvert_exporter": "python",
   "pygments_lexer": "ipython3",
   "version": "3.11.7"
  }
 },
 "nbformat": 4,
 "nbformat_minor": 5
}
